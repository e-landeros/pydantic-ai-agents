{
 "cells": [
  {
   "cell_type": "code",
   "execution_count": 1,
   "metadata": {},
   "outputs": [],
   "source": [
    "from pydantic_ai import Agent\n",
    "from pydantic_ai.models.ollama import OllamaModel\n",
    "\n",
    "import nest_asyncio\n",
    "nest_asyncio.apply()"
   ]
  },
  {
   "cell_type": "code",
   "execution_count": 2,
   "metadata": {},
   "outputs": [],
   "source": [
    "#using local ollama model running with brew\n",
    "\n",
    "\n",
    "ollama_model = OllamaModel(\n",
    "    model_name='qwen2.5:7b',  \n",
    "    base_url='http://localhost:11434/v1/',  \n",
    ")\n"
   ]
  },
  {
   "cell_type": "code",
   "execution_count": 3,
   "metadata": {},
   "outputs": [],
   "source": [
    "agent = Agent(ollama_model)\n"
   ]
  },
  {
   "cell_type": "code",
   "execution_count": 4,
   "metadata": {},
   "outputs": [
    {
     "name": "stderr",
     "output_type": "stream",
     "text": [
      "/var/folders/nq/y2lyg7p15txfm5ksrw6f90340000gn/T/ipykernel_24697/901734174.py:1: LogfireNotConfiguredWarning: No logs or spans will be created until `logfire.configure()` has been called. Set the environment variable LOGFIRE_IGNORE_NO_CONFIG=1 or add ignore_no_config=true in pyproject.toml to suppress this warning.\n",
      "  result = agent.run_sync('Where is the band five finger death punch from?')\n"
     ]
    },
    {
     "name": "stdout",
     "output_type": "stream",
     "text": [
      "Five Finger Death Punch is an American rock band formed in Nashville, Tennessee, in 2003. The band members are John Corabi (vocals), Jake E. Lee (guitar), Tony Dunn (bass), and Shelley Dolenz (drums).\n"
     ]
    }
   ],
   "source": [
    "result = agent.run_sync('Where is the band five finger death punch from?')\n",
    "print(result.data)"
   ]
  },
  {
   "cell_type": "code",
   "execution_count": 7,
   "metadata": {},
   "outputs": [
    {
     "name": "stdout",
     "output_type": "stream",
     "text": [
      "Usage(requests=1, request_tokens=35, response_tokens=48, total_tokens=83, details=None)\n"
     ]
    }
   ],
   "source": [
    "print(result.usage())"
   ]
  },
  {
   "cell_type": "code",
   "execution_count": 8,
   "metadata": {},
   "outputs": [
    {
     "name": "stdout",
     "output_type": "stream",
     "text": [
      "b'[{\"parts\":[{\"content\":\"Where is the band five finger death punch from?\",\"timestamp\":\"2025-01-19T03:25:54.112986Z\",\"part_kind\":\"user-prompt\"}],\"kind\":\"request\"},{\"parts\":[{\"content\":\"Five Finger Death Punch (5FDP) is an American heavy metal band from Las Vegas, Nevada. The band was formed in 2005 and has since become one of the most successful and popular heavy metal bands in the world.\",\"part_kind\":\"text\"}],\"timestamp\":\"2025-01-19T03:26:05Z\",\"kind\":\"response\"}]'\n"
     ]
    }
   ],
   "source": [
    "print(result.all_messages_json())"
   ]
  },
  {
   "cell_type": "code",
   "execution_count": 4,
   "metadata": {},
   "outputs": [],
   "source": [
    "# ollamModel is OpenAIModel under the hood but you have to use the default api key\n",
    "from pydantic_ai.models.openai import OpenAIModel\n",
    "\n",
    "open_aimodel = OpenAIModel(\n",
    "    model_name='llama3.2',  \n",
    "    base_url='http://localhost:11434/v1/', \n",
    "    api_key='ollama' \n",
    ")"
   ]
  },
  {
   "cell_type": "code",
   "execution_count": 5,
   "metadata": {},
   "outputs": [
    {
     "name": "stdout",
     "output_type": "stream",
     "text": [
      "OpenAIModel(model_name='llama3.2')\n"
     ]
    }
   ],
   "source": [
    "print(open_aimodel)"
   ]
  },
  {
   "cell_type": "code",
   "execution_count": null,
   "metadata": {},
   "outputs": [],
   "source": []
  }
 ],
 "metadata": {
  "kernelspec": {
   "display_name": "llm",
   "language": "python",
   "name": "python3"
  },
  "language_info": {
   "codemirror_mode": {
    "name": "ipython",
    "version": 3
   },
   "file_extension": ".py",
   "mimetype": "text/x-python",
   "name": "python",
   "nbconvert_exporter": "python",
   "pygments_lexer": "ipython3",
   "version": "3.9.21"
  }
 },
 "nbformat": 4,
 "nbformat_minor": 2
}
