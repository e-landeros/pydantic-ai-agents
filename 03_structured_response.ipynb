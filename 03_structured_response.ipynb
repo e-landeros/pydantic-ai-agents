{
 "cells": [
  {
   "cell_type": "code",
   "execution_count": 29,
   "metadata": {},
   "outputs": [],
   "source": [
    "from pydantic_ai import Agent, RunContext\n",
    "from pydantic_ai.models.openai import OpenAIModel\n",
    "from pydantic import BaseModel, Field\n",
    "\n",
    "from dataclasses import dataclass\n",
    "\n",
    "import nest_asyncio\n",
    "nest_asyncio.apply()"
   ]
  },
  {
   "cell_type": "code",
   "execution_count": 9,
   "metadata": {},
   "outputs": [],
   "source": [
    "@dataclass\n",
    "class User:\n",
    "    name: str"
   ]
  },
  {
   "cell_type": "code",
   "execution_count": 25,
   "metadata": {},
   "outputs": [],
   "source": [
    "\n",
    "\n",
    "open_aimodel = OpenAIModel(\n",
    "    model_name='llama3.2',  \n",
    "    base_url='http://localhost:11434/v1/', \n",
    "    api_key='ollama',\n",
    ")"
   ]
  },
  {
   "cell_type": "code",
   "execution_count": 26,
   "metadata": {},
   "outputs": [],
   "source": [
    "agent = Agent(\n",
    "    open_aimodel,\n",
    "    deps_type=User,\n",
    "    result_type=bool,\n",
    "    )\n"
   ]
  },
  {
   "cell_type": "code",
   "execution_count": 27,
   "metadata": {},
   "outputs": [],
   "source": [
    "@agent.system_prompt\n",
    "def add_user_name(ctx: RunContext[str]) -> str:\n",
    "    return f\"The user's name is {ctx.deps}\""
   ]
  },
  {
   "cell_type": "code",
   "execution_count": 28,
   "metadata": {},
   "outputs": [],
   "source": [
    "result = agent.run_sync('Does their name start with \"A\"?', deps=User('Anne'))"
   ]
  },
  {
   "cell_type": "code",
   "execution_count": 14,
   "metadata": {},
   "outputs": [
    {
     "name": "stdout",
     "output_type": "stream",
     "text": [
      "True\n"
     ]
    }
   ],
   "source": [
    "print(result.data)"
   ]
  },
  {
   "cell_type": "code",
   "execution_count": 15,
   "metadata": {},
   "outputs": [
    {
     "name": "stdout",
     "output_type": "stream",
     "text": [
      "Usage(requests=2, request_tokens=372, response_tokens=34, total_tokens=406, details=None)\n"
     ]
    }
   ],
   "source": [
    "print(result.usage())"
   ]
  },
  {
   "cell_type": "markdown",
   "metadata": {},
   "source": [
    "This example shows how to get structured responses from the agent.\n",
    "\n",
    "Key concepts:\n",
    "- Using Pydantic models we can define th ersponse template\n",
    "- Type validation\n",
    "- Field descriptions for better model understanding"
   ]
  },
  {
   "cell_type": "code",
   "execution_count": 30,
   "metadata": {},
   "outputs": [],
   "source": [
    "class ResponseModel(BaseModel):\n",
    "    \"\"\"Structured response with metadata.\"\"\"\n",
    "\n",
    "    response: str\n",
    "    needs_escalation: bool\n",
    "    follow_up_required: bool\n",
    "    sentiment: str = Field(description=\"Customer sentiment analysis\")\n"
   ]
  },
  {
   "cell_type": "code",
   "execution_count": 31,
   "metadata": {},
   "outputs": [],
   "source": [
    "agent2 = Agent(\n",
    "    model=open_aimodel,\n",
    "    result_type=ResponseModel,\n",
    "    system_prompt=(\n",
    "        \"You are an intelligent customer support agent. \"\n",
    "        \"Analyze queries carefully and provide structured responses.\"\n",
    "    ),\n",
    ")\n",
    "\n"
   ]
  },
  {
   "cell_type": "code",
   "execution_count": 32,
   "metadata": {},
   "outputs": [
    {
     "name": "stdout",
     "output_type": "stream",
     "text": [
      "{\n",
      "  \"response\": \"The status of your order number 12345 is currently pending shipping and will be delivered on the estimated date.\",\n",
      "  \"needs_escalation\": false,\n",
      "  \"follow_up_required\": true,\n",
      "  \"sentiment\": \"\"\n",
      "}\n"
     ]
    }
   ],
   "source": [
    "response = agent2.run_sync(\"How can I track my order #12345?\")\n",
    "print(response.data.model_dump_json(indent=2))"
   ]
  },
  {
   "cell_type": "code",
   "execution_count": null,
   "metadata": {},
   "outputs": [],
   "source": []
  }
 ],
 "metadata": {
  "kernelspec": {
   "display_name": "llm",
   "language": "python",
   "name": "python3"
  },
  "language_info": {
   "codemirror_mode": {
    "name": "ipython",
    "version": 3
   },
   "file_extension": ".py",
   "mimetype": "text/x-python",
   "name": "python",
   "nbconvert_exporter": "python",
   "pygments_lexer": "ipython3",
   "version": "3.9.21"
  }
 },
 "nbformat": 4,
 "nbformat_minor": 2
}
