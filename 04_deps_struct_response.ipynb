{
 "cells": [
  {
   "cell_type": "code",
   "execution_count": 1,
   "metadata": {},
   "outputs": [],
   "source": [
    "from pydantic_ai import Agent, RunContext, Tool\n",
    "from pydantic_ai.models.ollama import OllamaModel # type: ignore\n",
    "from pydantic import BaseModel, Field\n",
    "from typing import Dict, List, Optional\n",
    "from datetime import date\n",
    "\n",
    "from dataclasses import dataclass\n",
    "\n",
    "import nest_asyncio\n",
    "nest_asyncio.apply()"
   ]
  },
  {
   "cell_type": "code",
   "execution_count": 2,
   "metadata": {},
   "outputs": [],
   "source": [
    "model = OllamaModel(\n",
    "    model_name='qwen2.5:7b',  \n",
    "    base_url='http://localhost:11434/v1/',  \n",
    ")"
   ]
  },
  {
   "cell_type": "code",
   "execution_count": 3,
   "metadata": {},
   "outputs": [],
   "source": [
    "# Define the structured response schema; The agent should respond to the client in this way\n",
    "class ResponseModel(BaseModel):\n",
    "    \"\"\"Structured response.\"\"\"\n",
    "    response: str\n",
    "    question_topic: str \n",
    "    needs_escalation: bool = False\n",
    "    follow_up_required: bool =False\n",
    "    sentiment: str = Field(description=\"Customer sentiment analysis\") "
   ]
  },
  {
   "cell_type": "code",
   "execution_count": 4,
   "metadata": {},
   "outputs": [],
   "source": [
    "@dataclass\n",
    "class MyDeps:\n",
    "    clients_name: str"
   ]
  },
  {
   "cell_type": "code",
   "execution_count": 5,
   "metadata": {},
   "outputs": [],
   "source": [
    "\n",
    "# Agent with structured output and dependencies\n",
    "agent4 = Agent(\n",
    "    model=model,\n",
    "    retries=2,\n",
    "    result_type=ResponseModel,\n",
    "    deps_type=MyDeps,\n",
    ")"
   ]
  },
  {
   "cell_type": "code",
   "execution_count": 6,
   "metadata": {},
   "outputs": [],
   "source": [
    "#so how do i make the agent aware fo the context that is knwon during the conversation? by adding RunContext.\n",
    "\n",
    "@agent4.system_prompt\n",
    "async def dynamic_system_prompt(ctx: RunContext[MyDeps]) -> str:\n",
    "    \"\"\"Generates a system prompt using dependency data.\"\"\"\n",
    "    clients_name = ctx.deps.clients_name\n",
    "    print(f\"Dynamic prompt generated for client : {clients_name}\")  # Debugging\n",
    "    return (\n",
    "        f\"You are an intelligent support agent. \"\n",
    "        f\"Analyze queries carefully and provide brief and structured responses. \"\n",
    "        f\"Ensure every response includes the clients name: '{clients_name}'. \"\n",
    "        \"Ask clarifying questions if necessary.\"\n",
    "    )"
   ]
  },
  {
   "cell_type": "code",
   "execution_count": 7,
   "metadata": {},
   "outputs": [],
   "source": [
    "# im setting a dependency by provider the agent with an acccount name. this is required becasue it is registered with the agent.\n",
    "current_client = MyDeps(clients_name=\"Angela\")"
   ]
  },
  {
   "cell_type": "code",
   "execution_count": 8,
   "metadata": {},
   "outputs": [
    {
     "name": "stderr",
     "output_type": "stream",
     "text": [
      "/var/folders/nq/y2lyg7p15txfm5ksrw6f90340000gn/T/ipykernel_29176/1775348045.py:2: LogfireNotConfiguredWarning: No logs or spans will be created until `logfire.configure()` has been called. Set the environment variable LOGFIRE_IGNORE_NO_CONFIG=1 or add ignore_no_config=true in pyproject.toml to suppress this warning.\n",
      "  response = agent4.run_sync(user_prompt=\"I am seeing alot of bad data coming in. did something change recently?\",\n"
     ]
    },
    {
     "name": "stdout",
     "output_type": "stream",
     "text": [
      "Dynamic prompt generated for client : Angela\n",
      "{\n",
      "  \"response\": \"It sounds like you're experiencing issues with the quality of incoming data, Angela. Could you provide more details about what specifically has changed or how this impact is being observed? This will help me understand better and assist you effectively.\",\n",
      "  \"question_topic\": \"Data Quality Issues\",\n",
      "  \"needs_escalation\": false,\n",
      "  \"follow_up_required\": true,\n",
      "  \"sentiment\": \"Concerned\"\n",
      "}\n"
     ]
    }
   ],
   "source": [
    "# Query the agent for account information\n",
    "response = agent4.run_sync(user_prompt=\"I am seeing alot of bad data coming in. did something change recently?\", \n",
    "                           deps=current_client)\n",
    "# Output the response\n",
    "print(response.data.model_dump_json(indent=2))"
   ]
  },
  {
   "cell_type": "code",
   "execution_count": 10,
   "metadata": {},
   "outputs": [
    {
     "name": "stdout",
     "output_type": "stream",
     "text": [
      "Dynamic prompt generated for client : Angela\n",
      "{\n",
      "  \"response\": \"Let's review the specifics of these leads to identify areas for improvement in the follow-up process. I can help tailor strategies that might increase your chances of converting these leads.\",\n",
      "  \"question_topic\": \"sales lead management\",\n",
      "  \"needs_escalation\": false,\n",
      "  \"follow_up_required\": true,\n",
      "  \"sentiment\": \"frustrated\"\n",
      "}\n"
     ]
    }
   ],
   "source": [
    "# Query the agent for account information\n",
    "response2 = agent4.run_sync(user_prompt=\"We are not getting any sales from these leads we have bought.This is BS. what can we do?\", \n",
    "                           deps=current_client)\n",
    "# Output the response\n",
    "print(response2.data.model_dump_json(indent=2))"
   ]
  },
  {
   "cell_type": "code",
   "execution_count": null,
   "metadata": {},
   "outputs": [],
   "source": []
  }
 ],
 "metadata": {
  "kernelspec": {
   "display_name": "llm",
   "language": "python",
   "name": "python3"
  },
  "language_info": {
   "codemirror_mode": {
    "name": "ipython",
    "version": 3
   },
   "file_extension": ".py",
   "mimetype": "text/x-python",
   "name": "python",
   "nbconvert_exporter": "python",
   "pygments_lexer": "ipython3",
   "version": "3.9.21"
  }
 },
 "nbformat": 4,
 "nbformat_minor": 2
}
