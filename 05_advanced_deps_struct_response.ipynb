{
 "cells": [
  {
   "cell_type": "code",
   "execution_count": 1,
   "metadata": {},
   "outputs": [],
   "source": [
    "from pydantic_ai import Agent, RunContext, Tool\n",
    "from pydantic_ai.models.ollama import OllamaModel\n",
    "from pydantic import BaseModel, Field\n",
    "from typing import Dict, List, Optional\n",
    "from datetime import date\n",
    "\n",
    "from dataclasses import dataclass\n",
    "\n",
    "import nest_asyncio\n",
    "nest_asyncio.apply()"
   ]
  },
  {
   "cell_type": "code",
   "execution_count": 2,
   "metadata": {},
   "outputs": [],
   "source": [
    "model = OllamaModel(\n",
    "    model_name='qwen2.5:7b',  \n",
    "    base_url='http://localhost:11434/v1/',  \n",
    ")"
   ]
  },
  {
   "cell_type": "code",
   "execution_count": 3,
   "metadata": {},
   "outputs": [],
   "source": [
    "# Define Invoice schema\n",
    "class Invoice(BaseModel):\n",
    "    \"\"\"Structure for invoice details.\"\"\"\n",
    "    invoice_id: str\n",
    "    date_issued: date\n",
    "    due_date: Optional[date]\n",
    "    amount: float\n",
    "    status: str  # e.g., \"Paid\", \"Outstanding\", \"Overdue\"\n",
    "\n",
    "# Define Account Details schema\n",
    "class AccountDetails(BaseModel):\n",
    "    \"\"\"Structure for account and billing-related details.\"\"\"\n",
    "    account_id: str\n",
    "    customer_name: str\n",
    "    email: str\n",
    "    recent_invoices: Optional[List[Invoice]]\n",
    "    outstanding_invoices: Optional[List[Invoice]]\n",
    "\n",
    "\n"
   ]
  },
  {
   "cell_type": "code",
   "execution_count": 4,
   "metadata": {},
   "outputs": [],
   "source": [
    "# Define the structured response schema; The agent should respond to the client in this way\n",
    "class ResponseModel(BaseModel):\n",
    "    \"\"\"Structured response with metadata and account details.\"\"\"\n",
    "    response: str  # The main response text\n",
    "    needs_escalation: bool = False\n",
    "    follow_up_required: bool =False\n",
    "    sentiment: str = Field(description=\"Customer sentiment analysis\")\n",
    "    account_summary: Optional[AccountDetails] = None"
   ]
  },
  {
   "cell_type": "code",
   "execution_count": 5,
   "metadata": {},
   "outputs": [],
   "source": [
    "# Example Customer account\n",
    "customer_account = AccountDetails(\n",
    "    account_id=\"A12345\",\n",
    "    customer_name=\"John Doe\",\n",
    "    email=\"john.doe@example.com\",\n",
    "    recent_invoices=[\n",
    "        Invoice(\n",
    "            invoice_id=\"INV001\",\n",
    "            date_issued=date(2025, 1, 10),\n",
    "            due_date=date(2025, 1, 15),\n",
    "            amount=120.0,\n",
    "            status=\"Paid\",\n",
    "        )\n",
    "    ],\n",
    "    outstanding_invoices=[\n",
    "        Invoice(\n",
    "            invoice_id=\"INV002\",\n",
    "            date_issued=date(2025, 1, 5),\n",
    "            due_date=date(2025, 1, 20),\n",
    "            amount=150.0,\n",
    "            status=\"Outstanding\",\n",
    "        )\n",
    "    ],\n",
    ")\n"
   ]
  },
  {
   "cell_type": "code",
   "execution_count": 6,
   "metadata": {},
   "outputs": [],
   "source": [
    "\n",
    "# Agent with structured output and dependencies\n",
    "agent5 = Agent(\n",
    "    model=model,\n",
    "    retries=5,\n",
    "    result_type=ResponseModel,\n",
    "    deps_type=AccountDetails,\n",
    "    system_prompt=(\n",
    "        \"You are an intelligent customer support agent. \"\n",
    "        \"Analyze queries carefully and provide structured responses. \"\n",
    "        \"take in the client data and provide invoice information\"\n",
    "    ), \n",
    ")"
   ]
  },
  {
   "cell_type": "code",
   "execution_count": 7,
   "metadata": {},
   "outputs": [],
   "source": [
    "# Add dynamic system prompt based on dependencies\n",
    "@agent5.system_prompt\n",
    "async def add_customer_details(ctx: RunContext[AccountDetails]) -> str:\n",
    "    return f\"Customer Acount details: {ctx.deps}\""
   ]
  },
  {
   "cell_type": "code",
   "execution_count": 8,
   "metadata": {},
   "outputs": [
    {
     "name": "stderr",
     "output_type": "stream",
     "text": [
      "/var/folders/nq/y2lyg7p15txfm5ksrw6f90340000gn/T/ipykernel_27482/3971403337.py:2: LogfireNotConfiguredWarning: No logs or spans will be created until `logfire.configure()` has been called. Set the environment variable LOGFIRE_IGNORE_NO_CONFIG=1 or add ignore_no_config=true in pyproject.toml to suppress this warning.\n",
      "  response = agent5.run_sync(user_prompt=\"Can you tell me if i have any oustanding invoices?\", deps=customer_account)\n"
     ]
    },
    {
     "name": "stdout",
     "output_type": "stream",
     "text": [
      "{\n",
      "  \"response\": \"Yes, you have an outstanding invoice. The outstanding invoice is for the amount of $150.00 with a due date of January 20, 2025.\",\n",
      "  \"needs_escalation\": false,\n",
      "  \"follow_up_required\": false,\n",
      "  \"sentiment\": \"neutral\",\n",
      "  \"account_summary\": {\n",
      "    \"account_id\": \"A12345\",\n",
      "    \"customer_name\": \"John Doe\",\n",
      "    \"email\": \"john.doe@example.com\",\n",
      "    \"recent_invoices\": [],\n",
      "    \"outstanding_invoices\": [\n",
      "      {\n",
      "        \"invoice_id\": \"INV002\",\n",
      "        \"date_issued\": \"2025-01-05\",\n",
      "        \"due_date\": \"2025-01-20\",\n",
      "        \"amount\": 150.0,\n",
      "        \"status\": \"Outstanding\"\n",
      "      }\n",
      "    ]\n",
      "  }\n",
      "}\n"
     ]
    }
   ],
   "source": [
    "# Query the agent for account information\n",
    "response = agent5.run_sync(user_prompt=\"Can you tell me if i have any oustanding invoices?\", deps=customer_account)\n",
    "# Output the response\n",
    "print(response.data.model_dump_json(indent=2))"
   ]
  },
  {
   "cell_type": "code",
   "execution_count": 9,
   "metadata": {},
   "outputs": [
    {
     "name": "stdout",
     "output_type": "stream",
     "text": [
      "{\n",
      "  \"response\": \"Yes, you have an outstanding invoice. The outstanding invoice is for the amount of $150.00 with a due date of January 20, 2025.\",\n",
      "  \"needs_escalation\": false,\n",
      "  \"follow_up_required\": false,\n",
      "  \"sentiment\": \"neutral\",\n",
      "  \"account_summary\": {\n",
      "    \"account_id\": \"A12345\",\n",
      "    \"customer_name\": \"John Doe\",\n",
      "    \"email\": \"john.doe@example.com\",\n",
      "    \"recent_invoices\": [],\n",
      "    \"outstanding_invoices\": [\n",
      "      {\n",
      "        \"invoice_id\": \"INV002\",\n",
      "        \"date_issued\": \"2025-01-05\",\n",
      "        \"due_date\": \"2025-01-20\",\n",
      "        \"amount\": 150.0,\n",
      "        \"status\": \"Outstanding\"\n",
      "      }\n",
      "    ]\n",
      "  }\n",
      "}\n"
     ]
    }
   ],
   "source": [
    "response.all_messages()\n",
    "print(response.data.model_dump_json(indent=2))\n",
    "\n"
   ]
  },
  {
   "cell_type": "code",
   "execution_count": null,
   "metadata": {},
   "outputs": [],
   "source": []
  }
 ],
 "metadata": {
  "kernelspec": {
   "display_name": "llm",
   "language": "python",
   "name": "python3"
  },
  "language_info": {
   "codemirror_mode": {
    "name": "ipython",
    "version": 3
   },
   "file_extension": ".py",
   "mimetype": "text/x-python",
   "name": "python",
   "nbconvert_exporter": "python",
   "pygments_lexer": "ipython3",
   "version": "3.9.21"
  }
 },
 "nbformat": 4,
 "nbformat_minor": 2
}
